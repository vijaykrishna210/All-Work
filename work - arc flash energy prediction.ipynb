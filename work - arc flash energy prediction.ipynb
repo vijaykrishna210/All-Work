{
 "cells": [
  {
   "cell_type": "code",
   "execution_count": 1,
   "metadata": {},
   "outputs": [
    {
     "name": "stderr",
     "output_type": "stream",
     "text": [
      "C:\\Users\\krishnav\\Anaconda3\\envs\\Tensor1\\lib\\site-packages\\sklearn\\externals\\joblib\\__init__.py:15: FutureWarning: sklearn.externals.joblib is deprecated in 0.21 and will be removed in 0.23. Please import this functionality directly from joblib, which can be installed with: pip install joblib. If this warning is raised when loading pickled models, you may need to re-serialize those models with scikit-learn 0.21+.\n",
      "  warnings.warn(msg, category=FutureWarning)\n"
     ]
    }
   ],
   "source": [
    "import pandas as pd\n",
    "import numpy as np\n",
    "import matplotlib.pyplot as plt\n",
    "%matplotlib inline\n",
    "\n",
    "from sklearn.preprocessing import StandardScaler,OneHotEncoder\n",
    "from sklearn.impute import SimpleImputer\n",
    "from sklearn.pipeline import Pipeline\n",
    "from sklearn.compose import ColumnTransformer\n",
    "\n",
    "from sklearn.model_selection import train_test_split\n",
    "\n",
    "from sklearn.ensemble import RandomForestRegressor\n",
    "from sklearn.ensemble import GradientBoostingRegressor\n",
    "\n",
    "from sklearn.model_selection import cross_val_score\n",
    "from sklearn.model_selection import GridSearchCV\n",
    "\n",
    "from sklearn.metrics import mean_absolute_error\n",
    "\n",
    "from sklearn.externals import joblib"
   ]
  },
  {
   "cell_type": "code",
   "execution_count": 2,
   "metadata": {},
   "outputs": [
    {
     "data": {
      "text/plain": [
       "(32000, 28)"
      ]
     },
     "execution_count": 2,
     "metadata": {},
     "output_type": "execute_result"
    }
   ],
   "source": [
    "Df = pd.read_excel(\"ArcFlash_Full_Data.xlsx\",sheet_name = \"Sheet1\")\n",
    "Df.shape"
   ]
  },
  {
   "cell_type": "code",
   "execution_count": 3,
   "metadata": {},
   "outputs": [
    {
     "data": {
      "text/plain": [
       "Index(['Bus Name', 'PD Name', 'Bus kV', 'Bus Bolted Fault (kA)',\n",
       "       'Bus Arcing Fault (kA)', 'PD Bolted Fault (kA)', 'PD Arcing Fault (kA)',\n",
       "       'Trip Time (sec)', 'Breaker time (sec)', 'Ground', 'Equip Type',\n",
       "       'Busbar Config', 'Box Width (mm)', 'Box Height (mm)', 'Box Depth (mm)',\n",
       "       'Gap (mm)', 'AF Boundary (mm)', 'Working Distance (mm)',\n",
       "       'Incident Energy(cal/cm2)', 'PPE Level/Notes(*N)', 'Label #',\n",
       "       'Cable length from trip device (m)', 'Incident Energy at Low Marginal',\n",
       "       'Incident Energy at High Marginal', 'User Notes', 'User Notes2',\n",
       "       'User Notes3', 'User Notes4'],\n",
       "      dtype='object')"
      ]
     },
     "execution_count": 3,
     "metadata": {},
     "output_type": "execute_result"
    }
   ],
   "source": [
    "Column_Names = Df.columns\n",
    "Column_Names"
   ]
  },
  {
   "cell_type": "code",
   "execution_count": 4,
   "metadata": {},
   "outputs": [
    {
     "data": {
      "text/plain": [
       "(32000, 11)"
      ]
     },
     "execution_count": 4,
     "metadata": {},
     "output_type": "execute_result"
    }
   ],
   "source": [
    "Columns_retained = ['Bus kV', 'Bus Bolted Fault (kA)', 'Bus Arcing Fault (kA)', 'Trip Time (sec)', 'Equip Type', 'Box Width (mm)', 'Box Height (mm)', 'Box Depth (mm)',\n",
    "                    'Busbar Config', 'AF Boundary (mm)', 'Incident Energy(cal/cm2)']\n",
    "Df_Columns_retained =  Df[Columns_retained]\n",
    "Df_Columns_retained.shape"
   ]
  },
  {
   "cell_type": "code",
   "execution_count": 5,
   "metadata": {},
   "outputs": [
    {
     "data": {
      "text/plain": [
       "(32000, 7)"
      ]
     },
     "execution_count": 5,
     "metadata": {},
     "output_type": "execute_result"
    }
   ],
   "source": [
    "Columns_droped_Ecal = [ 'Box Width (mm)', 'Box Height (mm)', 'Box Depth (mm)','AF Boundary (mm)']\n",
    "\n",
    "Df_Ecal = Df_Columns_retained.drop(columns=Columns_droped_Ecal)\n",
    "Df_Ecal.shape"
   ]
  },
  {
   "cell_type": "code",
   "execution_count": 6,
   "metadata": {},
   "outputs": [
    {
     "data": {
      "text/html": [
       "<div>\n",
       "<style scoped>\n",
       "    .dataframe tbody tr th:only-of-type {\n",
       "        vertical-align: middle;\n",
       "    }\n",
       "\n",
       "    .dataframe tbody tr th {\n",
       "        vertical-align: top;\n",
       "    }\n",
       "\n",
       "    .dataframe thead th {\n",
       "        text-align: right;\n",
       "    }\n",
       "</style>\n",
       "<table border=\"1\" class=\"dataframe\">\n",
       "  <thead>\n",
       "    <tr style=\"text-align: right;\">\n",
       "      <th></th>\n",
       "      <th>Bus kV</th>\n",
       "      <th>Bus Bolted Fault (kA)</th>\n",
       "      <th>Bus Arcing Fault (kA)</th>\n",
       "      <th>Trip Time (sec)</th>\n",
       "      <th>Equip Type</th>\n",
       "      <th>Busbar Config</th>\n",
       "      <th>Incident Energy(cal/cm2)</th>\n",
       "    </tr>\n",
       "  </thead>\n",
       "  <tbody>\n",
       "    <tr>\n",
       "      <th>0</th>\n",
       "      <td>0.480000</td>\n",
       "      <td>42.48</td>\n",
       "      <td>31.92</td>\n",
       "      <td>0.25</td>\n",
       "      <td>PNL</td>\n",
       "      <td>VCBB</td>\n",
       "      <td>25.915098</td>\n",
       "    </tr>\n",
       "    <tr>\n",
       "      <th>1</th>\n",
       "      <td>0.690000</td>\n",
       "      <td>22.31</td>\n",
       "      <td>18.16</td>\n",
       "      <td>0.35</td>\n",
       "      <td>SWG</td>\n",
       "      <td>VCB</td>\n",
       "      <td>10.613570</td>\n",
       "    </tr>\n",
       "    <tr>\n",
       "      <th>2</th>\n",
       "      <td>11.000001</td>\n",
       "      <td>25.01</td>\n",
       "      <td>22.68</td>\n",
       "      <td>1.15</td>\n",
       "      <td>PNL</td>\n",
       "      <td>VCB</td>\n",
       "      <td>92.972801</td>\n",
       "    </tr>\n",
       "    <tr>\n",
       "      <th>3</th>\n",
       "      <td>0.400000</td>\n",
       "      <td>17.51</td>\n",
       "      <td>13.12</td>\n",
       "      <td>0.35</td>\n",
       "      <td>SWG</td>\n",
       "      <td>VCBB</td>\n",
       "      <td>8.413242</td>\n",
       "    </tr>\n",
       "    <tr>\n",
       "      <th>4</th>\n",
       "      <td>0.690000</td>\n",
       "      <td>4.94</td>\n",
       "      <td>4.03</td>\n",
       "      <td>0.25</td>\n",
       "      <td>PNL</td>\n",
       "      <td>VCB</td>\n",
       "      <td>2.292927</td>\n",
       "    </tr>\n",
       "  </tbody>\n",
       "</table>\n",
       "</div>"
      ],
      "text/plain": [
       "      Bus kV  Bus Bolted Fault (kA)  Bus Arcing Fault (kA)  Trip Time (sec)  \\\n",
       "0   0.480000                  42.48                  31.92             0.25   \n",
       "1   0.690000                  22.31                  18.16             0.35   \n",
       "2  11.000001                  25.01                  22.68             1.15   \n",
       "3   0.400000                  17.51                  13.12             0.35   \n",
       "4   0.690000                   4.94                   4.03             0.25   \n",
       "\n",
       "  Equip Type Busbar Config  Incident Energy(cal/cm2)  \n",
       "0        PNL          VCBB                 25.915098  \n",
       "1        SWG           VCB                 10.613570  \n",
       "2        PNL           VCB                 92.972801  \n",
       "3        SWG          VCBB                  8.413242  \n",
       "4        PNL           VCB                  2.292927  "
      ]
     },
     "execution_count": 6,
     "metadata": {},
     "output_type": "execute_result"
    }
   ],
   "source": [
    "Df_Ecal = Df_Ecal.sample(frac=1).reset_index(drop=True)\n",
    "Df_Ecal.head()"
   ]
  },
  {
   "cell_type": "code",
   "execution_count": 7,
   "metadata": {},
   "outputs": [
    {
     "name": "stdout",
     "output_type": "stream",
     "text": [
      "(32000, 6)\n",
      "(32000,)\n"
     ]
    }
   ],
   "source": [
    "Y = Df_Ecal['Incident Energy(cal/cm2)']\n",
    "X = Df_Ecal.drop('Incident Energy(cal/cm2)', axis=1)\n",
    "\n",
    "print( X.shape)\n",
    "print( Y.shape)"
   ]
  },
  {
   "cell_type": "code",
   "execution_count": 8,
   "metadata": {},
   "outputs": [],
   "source": [
    "X_train, X_test, Y_train, Y_test = train_test_split(X, Y, test_size = 0.1,stratify=X[\"Bus kV\"])"
   ]
  },
  {
   "cell_type": "code",
   "execution_count": 9,
   "metadata": {},
   "outputs": [],
   "source": [
    "numeric_transformer = Pipeline(steps=[\n",
    "    ('imputer', SimpleImputer(strategy='median')),\n",
    "    ('scaler', StandardScaler())])\n",
    "\n",
    "categorical_transformer = Pipeline(steps=[\n",
    "    ('imputer', SimpleImputer(strategy='most_frequent')),\n",
    "    ('onehot', OneHotEncoder())])\n",
    "\n",
    "numeric_features = [\"Bus kV\", \"Bus Bolted Fault (kA)\",'Bus Arcing Fault (kA)','Trip Time (sec)']\n",
    "categorical_features = [\"Equip Type\", \"Busbar Config\"]\n",
    "\n",
    "\n",
    "preprocessor = ColumnTransformer(\n",
    "    transformers=[\n",
    "        ('num', numeric_transformer, numeric_features),\n",
    "        ('cat', categorical_transformer, categorical_features)])\n",
    "\n",
    "X_train_prep = preprocessor.fit_transform(X_train)\n",
    "X_test_prep = preprocessor.transform(X_test)"
   ]
  },
  {
   "cell_type": "code",
   "execution_count": 10,
   "metadata": {},
   "outputs": [
    {
     "name": "stdout",
     "output_type": "stream",
     "text": [
      "\n",
      "RandomForestRegressor results\n",
      "Max positive error: 33.06901203071344\n",
      "Max negative error: -14.941194745141406\n",
      "Counts more than 5% error\n",
      "319\n",
      "\n",
      "GradientBoostingRegressor results\n",
      "Max positive error: 26.267168088315174\n",
      "Max negative error: -10.811078557411513\n",
      "Counts more than 5% error\n",
      "96\n"
     ]
    },
    {
     "data": {
      "image/png": "[encoded data removed]",
      "text/plain": [
       "<Figure size 432x288 with 1 Axes>"
      ]
     },
     "metadata": {
      "needs_background": "light"
     },
     "output_type": "display_data"
    },
    {
     "data": {
      "image/png": "[encoded data removed]",
      "text/plain": [
       "<Figure size 432x288 with 1 Axes>"
      ]
     },
     "metadata": {
      "needs_background": "light"
     },
     "output_type": "display_data"
    }
   ],
   "source": [
    "def Run_models_ensemble(model_var,X_train,Y_train,X_test,Y_test,Error_to_Observe = 5):\n",
    "    \n",
    "    model_var.fit(X_train, Y_train)\n",
    "\n",
    "    Y_predict = model_var.predict(X_test)\n",
    "    \n",
    "    print(\"\\n{} results\".format(type(model_var).__name__))\n",
    "\n",
    "    Df_Ecal_result = pd.DataFrame({\"Prediction\": Y_predict, \"Test\":Y_test})\n",
    "    Df_Ecal_result[\"% error\"] = (Df_Ecal_result[\"Prediction\"]/Df_Ecal_result[\"Test\"]  - 1)*100\n",
    "    Df_Ecal_result.to_excel(\"result_Ecal_\"+str(type(model_var).__name__)+ \".xlsx\")\n",
    "    print('Max positive error:', Df_Ecal_result[\"% error\"].max())\n",
    "    print('Max negative error:',Df_Ecal_result[\"% error\"].min())\n",
    "    plt.figure()\n",
    "    plt.scatter(range(len(Y_test)),Y_test)\n",
    "    plt.scatter(range(len(Y_test)),Y_predict)\n",
    "    print('Counts more than {}% error'.format(Error_to_Observe))\n",
    "    print(Df_Ecal_result[(Df_Ecal_result[\"% error\"] > Error_to_Observe) | (Df_Ecal_result[\"% error\"] <= -Error_to_Observe)].count()[\"% error\"])\n",
    "    joblib.dump(model_var, str(type(model_var).__name__) + \".pkl\")\n",
    "    \n",
    "forest_reg1 = RandomForestRegressor(n_estimators= 200, bootstrap = True, max_depth= 30,max_features= 'auto', random_state=42)\n",
    "GBR_reg1 = GradientBoostingRegressor(n_estimators= 100,  max_depth= 10,max_features= None, random_state=42,warm_start=True, tol=0.0001,loss='huber')\n",
    "\n",
    "\n",
    "Run_models_ensemble(forest_reg1,X_train_prep,Y_train,X_test_prep,Y_test,5)\n",
    "Run_models_ensemble(GBR_reg1,X_train_prep,Y_train,X_test_prep,Y_test,5)"
   ]
  },
  {
   "cell_type": "code",
   "execution_count": 11,
   "metadata": {},
   "outputs": [
    {
     "data": {
      "text/html": [
       "<div>\n",
       "<style scoped>\n",
       "    .dataframe tbody tr th:only-of-type {\n",
       "        vertical-align: middle;\n",
       "    }\n",
       "\n",
       "    .dataframe tbody tr th {\n",
       "        vertical-align: top;\n",
       "    }\n",
       "\n",
       "    .dataframe thead th {\n",
       "        text-align: right;\n",
       "    }\n",
       "</style>\n",
       "<table border=\"1\" class=\"dataframe\">\n",
       "  <thead>\n",
       "    <tr style=\"text-align: right;\">\n",
       "      <th></th>\n",
       "      <th>Bus kV</th>\n",
       "      <th>Bus Bolted Fault (kA)</th>\n",
       "      <th>Bus Arcing Fault (kA)</th>\n",
       "      <th>Trip Time (sec)</th>\n",
       "      <th>Equip Type</th>\n",
       "      <th>Busbar Config</th>\n",
       "      <th>Incident Energy(cal/cm2)</th>\n",
       "    </tr>\n",
       "  </thead>\n",
       "  <tbody>\n",
       "    <tr>\n",
       "      <th>0</th>\n",
       "      <td>13.8</td>\n",
       "      <td>30.00</td>\n",
       "      <td>27.88</td>\n",
       "      <td>0.640</td>\n",
       "      <td>SWG</td>\n",
       "      <td>VCB</td>\n",
       "      <td>20.738098</td>\n",
       "    </tr>\n",
       "    <tr>\n",
       "      <th>1</th>\n",
       "      <td>13.8</td>\n",
       "      <td>17.44</td>\n",
       "      <td>16.25</td>\n",
       "      <td>0.980</td>\n",
       "      <td>SWG</td>\n",
       "      <td>VCB</td>\n",
       "      <td>18.957121</td>\n",
       "    </tr>\n",
       "    <tr>\n",
       "      <th>2</th>\n",
       "      <td>13.8</td>\n",
       "      <td>12.29</td>\n",
       "      <td>11.49</td>\n",
       "      <td>1.930</td>\n",
       "      <td>SWG</td>\n",
       "      <td>VCB</td>\n",
       "      <td>26.795277</td>\n",
       "    </tr>\n",
       "    <tr>\n",
       "      <th>3</th>\n",
       "      <td>13.8</td>\n",
       "      <td>7.74</td>\n",
       "      <td>7.26</td>\n",
       "      <td>0.155</td>\n",
       "      <td>SWG</td>\n",
       "      <td>VCB</td>\n",
       "      <td>1.386893</td>\n",
       "    </tr>\n",
       "    <tr>\n",
       "      <th>4</th>\n",
       "      <td>0.4</td>\n",
       "      <td>50.00</td>\n",
       "      <td>27.86</td>\n",
       "      <td>0.180</td>\n",
       "      <td>PNL</td>\n",
       "      <td>VCB</td>\n",
       "      <td>12.706627</td>\n",
       "    </tr>\n",
       "  </tbody>\n",
       "</table>\n",
       "</div>"
      ],
      "text/plain": [
       "   Bus kV  Bus Bolted Fault (kA)  Bus Arcing Fault (kA)  Trip Time (sec)  \\\n",
       "0    13.8                  30.00                  27.88            0.640   \n",
       "1    13.8                  17.44                  16.25            0.980   \n",
       "2    13.8                  12.29                  11.49            1.930   \n",
       "3    13.8                   7.74                   7.26            0.155   \n",
       "4     0.4                  50.00                  27.86            0.180   \n",
       "\n",
       "  Equip Type Busbar Config  Incident Energy(cal/cm2)  \n",
       "0        SWG           VCB                 20.738098  \n",
       "1        SWG           VCB                 18.957121  \n",
       "2        SWG           VCB                 26.795277  \n",
       "3        SWG           VCB                  1.386893  \n",
       "4        PNL           VCB                 12.706627  "
      ]
     },
     "execution_count": 11,
     "metadata": {},
     "output_type": "execute_result"
    }
   ],
   "source": [
    "DF_Final_Test = pd.read_excel(\"ArcFlash_Final_test_data.xls\",skiprows=4,skipfooter=4,header= None)\n",
    "Columns_retained = ['Bus kV', 'Bus Bolted Fault (kA)', 'Bus Arcing Fault (kA)', 'Trip Time (sec)', 'Equip Type','Busbar Config','Incident Energy(cal/cm2)']\n",
    "DF_Final_Test = DF_Final_Test[[2,3,4,7,10,11,18]]\n",
    "DF_Final_Test.columns = Columns_retained\n",
    "DF_Final_Test.head()"
   ]
  },
  {
   "cell_type": "code",
   "execution_count": 12,
   "metadata": {},
   "outputs": [
    {
     "data": {
      "text/html": [
       "<div>\n",
       "<style scoped>\n",
       "    .dataframe tbody tr th:only-of-type {\n",
       "        vertical-align: middle;\n",
       "    }\n",
       "\n",
       "    .dataframe tbody tr th {\n",
       "        vertical-align: top;\n",
       "    }\n",
       "\n",
       "    .dataframe thead th {\n",
       "        text-align: right;\n",
       "    }\n",
       "</style>\n",
       "<table border=\"1\" class=\"dataframe\">\n",
       "  <thead>\n",
       "    <tr style=\"text-align: right;\">\n",
       "      <th></th>\n",
       "      <th>Bus kV</th>\n",
       "      <th>Bus Bolted Fault (kA)</th>\n",
       "      <th>Bus Arcing Fault (kA)</th>\n",
       "      <th>Trip Time (sec)</th>\n",
       "      <th>Equip Type</th>\n",
       "      <th>Busbar Config</th>\n",
       "    </tr>\n",
       "  </thead>\n",
       "  <tbody>\n",
       "    <tr>\n",
       "      <th>0</th>\n",
       "      <td>13.8</td>\n",
       "      <td>30.00</td>\n",
       "      <td>27.88</td>\n",
       "      <td>0.640</td>\n",
       "      <td>SWG</td>\n",
       "      <td>VCB</td>\n",
       "    </tr>\n",
       "    <tr>\n",
       "      <th>1</th>\n",
       "      <td>13.8</td>\n",
       "      <td>17.44</td>\n",
       "      <td>16.25</td>\n",
       "      <td>0.980</td>\n",
       "      <td>SWG</td>\n",
       "      <td>VCB</td>\n",
       "    </tr>\n",
       "    <tr>\n",
       "      <th>2</th>\n",
       "      <td>13.8</td>\n",
       "      <td>12.29</td>\n",
       "      <td>11.49</td>\n",
       "      <td>1.930</td>\n",
       "      <td>SWG</td>\n",
       "      <td>VCB</td>\n",
       "    </tr>\n",
       "    <tr>\n",
       "      <th>3</th>\n",
       "      <td>13.8</td>\n",
       "      <td>7.74</td>\n",
       "      <td>7.26</td>\n",
       "      <td>0.155</td>\n",
       "      <td>SWG</td>\n",
       "      <td>VCB</td>\n",
       "    </tr>\n",
       "    <tr>\n",
       "      <th>4</th>\n",
       "      <td>0.4</td>\n",
       "      <td>50.00</td>\n",
       "      <td>27.86</td>\n",
       "      <td>0.180</td>\n",
       "      <td>PNL</td>\n",
       "      <td>VCB</td>\n",
       "    </tr>\n",
       "    <tr>\n",
       "      <th>5</th>\n",
       "      <td>0.4</td>\n",
       "      <td>43.95</td>\n",
       "      <td>29.31</td>\n",
       "      <td>0.220</td>\n",
       "      <td>SWG</td>\n",
       "      <td>VCBB</td>\n",
       "    </tr>\n",
       "    <tr>\n",
       "      <th>6</th>\n",
       "      <td>0.4</td>\n",
       "      <td>35.37</td>\n",
       "      <td>25.16</td>\n",
       "      <td>0.970</td>\n",
       "      <td>SWG</td>\n",
       "      <td>VCBB</td>\n",
       "    </tr>\n",
       "    <tr>\n",
       "      <th>7</th>\n",
       "      <td>0.4</td>\n",
       "      <td>23.76</td>\n",
       "      <td>16.51</td>\n",
       "      <td>1.380</td>\n",
       "      <td>PNL</td>\n",
       "      <td>VCB</td>\n",
       "    </tr>\n",
       "  </tbody>\n",
       "</table>\n",
       "</div>"
      ],
      "text/plain": [
       "   Bus kV  Bus Bolted Fault (kA)  Bus Arcing Fault (kA)  Trip Time (sec)  \\\n",
       "0    13.8                  30.00                  27.88            0.640   \n",
       "1    13.8                  17.44                  16.25            0.980   \n",
       "2    13.8                  12.29                  11.49            1.930   \n",
       "3    13.8                   7.74                   7.26            0.155   \n",
       "4     0.4                  50.00                  27.86            0.180   \n",
       "5     0.4                  43.95                  29.31            0.220   \n",
       "6     0.4                  35.37                  25.16            0.970   \n",
       "7     0.4                  23.76                  16.51            1.380   \n",
       "\n",
       "  Equip Type Busbar Config  \n",
       "0        SWG           VCB  \n",
       "1        SWG           VCB  \n",
       "2        SWG           VCB  \n",
       "3        SWG           VCB  \n",
       "4        PNL           VCB  \n",
       "5        SWG          VCBB  \n",
       "6        SWG          VCBB  \n",
       "7        PNL           VCB  "
      ]
     },
     "execution_count": 12,
     "metadata": {},
     "output_type": "execute_result"
    }
   ],
   "source": [
    "Y_Final_To_Predict_DF = DF_Final_Test['Incident Energy(cal/cm2)']\n",
    "X_Final_Predict_DF = DF_Final_Test.drop('Incident Energy(cal/cm2)', axis=1)\n",
    "\n",
    "X_predict = preprocessor.transform(X_Final_Predict_DF)\n",
    "X_Final_Predict_DF"
   ]
  },
  {
   "cell_type": "code",
   "execution_count": 13,
   "metadata": {},
   "outputs": [
    {
     "data": {
      "text/plain": [
       "array([19.05697953, 18.97923223, 25.95278234,  1.78938376, 14.16440907,\n",
       "       11.81022663, 48.10079205, 56.21341856])"
      ]
     },
     "execution_count": 13,
     "metadata": {},
     "output_type": "execute_result"
    }
   ],
   "source": [
    "joblib_model = joblib.load('RandomForestRegressor.pkl')\n",
    "Ypredict_rf = joblib_model.predict(X_predict)\n",
    "Ypredict_rf"
   ]
  },
  {
   "cell_type": "code",
   "execution_count": 14,
   "metadata": {},
   "outputs": [
    {
     "data": {
      "text/plain": [
       "array([19.66488311, 19.23788565, 27.47635896,  1.55146859, 14.18419135,\n",
       "       11.71146226, 47.94649504, 55.67560193])"
      ]
     },
     "execution_count": 14,
     "metadata": {},
     "output_type": "execute_result"
    }
   ],
   "source": [
    "joblib_model = joblib.load('GradientBoostingRegressor.pkl')\n",
    "Ypredict_gbr = joblib_model.predict(X_predict)\n",
    "Ypredict_gbr"
   ]
  },
  {
   "cell_type": "code",
   "execution_count": 16,
   "metadata": {},
   "outputs": [
    {
     "data": {
      "text/plain": [
       "0    -8.106426\n",
       "1     0.116639\n",
       "2    -3.144190\n",
       "3    29.021036\n",
       "4    11.472613\n",
       "5    -9.554584\n",
       "6    -1.046141\n",
       "7     3.402291\n",
       "Name: Incident Energy(cal/cm2), dtype: float64"
      ]
     },
     "execution_count": 16,
     "metadata": {},
     "output_type": "execute_result"
    }
   ],
   "source": [
    "(Ypredict_rf - Y_Final_To_Predict_DF)/Y_Final_To_Predict_DF*100"
   ]
  },
  {
   "cell_type": "code",
   "execution_count": 17,
   "metadata": {},
   "outputs": [
    {
     "data": {
      "text/plain": [
       "0    -5.175089\n",
       "1     1.481052\n",
       "2     2.541800\n",
       "3    11.866493\n",
       "4    11.628298\n",
       "5   -10.310944\n",
       "6    -1.363564\n",
       "7     2.412999\n",
       "Name: Incident Energy(cal/cm2), dtype: float64"
      ]
     },
     "execution_count": 17,
     "metadata": {},
     "output_type": "execute_result"
    }
   ],
   "source": [
    "(Ypredict_gbr - Y_Final_To_Predict_DF)/Y_Final_To_Predict_DF*100"
   ]
  }
 ],
 "metadata": {
  "kernelspec": {
   "display_name": "Python 3",
   "language": "python",
   "name": "python3"
  },
  "language_info": {
   "codemirror_mode": {
    "name": "ipython",
    "version": 3
   },
   "file_extension": ".py",
   "mimetype": "text/x-python",
   "name": "python",
   "nbconvert_exporter": "python",
   "pygments_lexer": "ipython3",
   "version": "3.7.6"
  }
 },
 "nbformat": 4,
 "nbformat_minor": 4
}
