{
 "cells": [
  {
   "cell_type": "code",
   "execution_count": 37,
   "metadata": {},
   "outputs": [],
   "source": [
    "import pandas as pd\n",
    "import numpy as np\n",
    "import matplotlib.pyplot as plt\n",
    "%matplotlib inline\n",
    "\n",
    "from sklearn.preprocessing import StandardScaler,OneHotEncoder\n",
    "from sklearn.impute import SimpleImputer\n",
    "from sklearn.pipeline import Pipeline\n",
    "from sklearn.compose import ColumnTransformer\n",
    "\n",
    "from sklearn.model_selection import train_test_split\n",
    "\n",
    "from sklearn.ensemble import RandomForestRegressor\n",
    "from sklearn.ensemble import GradientBoostingRegressor\n",
    "\n",
    "from sklearn.model_selection import cross_val_score\n",
    "from sklearn.model_selection import GridSearchCV\n",
    "\n",
    "from sklearn.metrics import mean_absolute_error\n",
    "\n",
    "from sklearn.externals import joblib"
   ]
  },
  {
   "cell_type": "code",
   "execution_count": 38,
   "metadata": {},
   "outputs": [
    {
     "data": {
      "text/plain": [
       "(32000, 28)"
      ]
     },
     "execution_count": 38,
     "metadata": {},
     "output_type": "execute_result"
    }
   ],
   "source": [
    "Df = pd.read_excel(\"ArcFlash_Full_Data.xlsx\",sheet_name = \"Sheet1\")\n",
    "Df.shape"
   ]
  },
  {
   "cell_type": "code",
   "execution_count": 39,
   "metadata": {},
   "outputs": [
    {
     "data": {
      "text/plain": [
       "Index(['Bus Name', 'PD Name', 'Bus kV', 'Bus Bolted Fault (kA)',\n",
       "       'Bus Arcing Fault (kA)', 'PD Bolted Fault (kA)', 'PD Arcing Fault (kA)',\n",
       "       'Trip Time (sec)', 'Breaker time (sec)', 'Ground', 'Equip Type',\n",
       "       'Busbar Config', 'Box Width (mm)', 'Box Height (mm)', 'Box Depth (mm)',\n",
       "       'Gap (mm)', 'AF Boundary (mm)', 'Working Distance (mm)',\n",
       "       'Incident Energy(cal/cm2)', 'PPE Level/Notes(*N)', 'Label #',\n",
       "       'Cable length from trip device (m)', 'Incident Energy at Low Marginal',\n",
       "       'Incident Energy at High Marginal', 'User Notes', 'User Notes2',\n",
       "       'User Notes3', 'User Notes4'],\n",
       "      dtype='object')"
      ]
     },
     "execution_count": 39,
     "metadata": {},
     "output_type": "execute_result"
    }
   ],
   "source": [
    "Column_Names = Df.columns\n",
    "Column_Names"
   ]
  },
  {
   "cell_type": "code",
   "execution_count": 40,
   "metadata": {},
   "outputs": [
    {
     "data": {
      "text/plain": [
       "(32000, 11)"
      ]
     },
     "execution_count": 40,
     "metadata": {},
     "output_type": "execute_result"
    }
   ],
   "source": [
    "Columns_retained = ['Bus kV', 'Bus Bolted Fault (kA)', 'Bus Arcing Fault (kA)', 'Trip Time (sec)', 'Equip Type', 'Box Width (mm)', 'Box Height (mm)', 'Box Depth (mm)',\n",
    "                    'Busbar Config', 'AF Boundary (mm)', 'Incident Energy(cal/cm2)']\n",
    "Df_Columns_retained =  Df[Columns_retained]\n",
    "Df_Columns_retained.shape"
   ]
  },
  {
   "cell_type": "code",
   "execution_count": 41,
   "metadata": {},
   "outputs": [
    {
     "data": {
      "text/plain": [
       "(32000, 7)"
      ]
     },
     "execution_count": 41,
     "metadata": {},
     "output_type": "execute_result"
    }
   ],
   "source": [
    "Columns_droped_Ecal = [ 'Box Width (mm)', 'Box Height (mm)', 'Box Depth (mm)','AF Boundary (mm)']\n",
    "\n",
    "Df_Ecal = Df_Columns_retained.drop(columns=Columns_droped_Ecal)\n",
    "Df_Ecal.shape"
   ]
  },
  {
   "cell_type": "code",
   "execution_count": 42,
   "metadata": {},
   "outputs": [
    {
     "data": {
      "text/html": [
       "<div>\n",
       "<style scoped>\n",
       "    .dataframe tbody tr th:only-of-type {\n",
       "        vertical-align: middle;\n",
       "    }\n",
       "\n",
       "    .dataframe tbody tr th {\n",
       "        vertical-align: top;\n",
       "    }\n",
       "\n",
       "    .dataframe thead th {\n",
       "        text-align: right;\n",
       "    }\n",
       "</style>\n",
       "<table border=\"1\" class=\"dataframe\">\n",
       "  <thead>\n",
       "    <tr style=\"text-align: right;\">\n",
       "      <th></th>\n",
       "      <th>Bus kV</th>\n",
       "      <th>Bus Bolted Fault (kA)</th>\n",
       "      <th>Bus Arcing Fault (kA)</th>\n",
       "      <th>Trip Time (sec)</th>\n",
       "      <th>Equip Type</th>\n",
       "      <th>Busbar Config</th>\n",
       "      <th>Incident Energy(cal/cm2)</th>\n",
       "    </tr>\n",
       "  </thead>\n",
       "  <tbody>\n",
       "    <tr>\n",
       "      <th>0</th>\n",
       "      <td>0.480000</td>\n",
       "      <td>34.97</td>\n",
       "      <td>24.87</td>\n",
       "      <td>1.55</td>\n",
       "      <td>PNL</td>\n",
       "      <td>VCB</td>\n",
       "      <td>94.317383</td>\n",
       "    </tr>\n",
       "    <tr>\n",
       "      <th>1</th>\n",
       "      <td>0.415000</td>\n",
       "      <td>37.29</td>\n",
       "      <td>23.38</td>\n",
       "      <td>0.80</td>\n",
       "      <td>SWG</td>\n",
       "      <td>VCB</td>\n",
       "      <td>31.460188</td>\n",
       "    </tr>\n",
       "    <tr>\n",
       "      <th>2</th>\n",
       "      <td>6.600000</td>\n",
       "      <td>42.51</td>\n",
       "      <td>37.81</td>\n",
       "      <td>0.90</td>\n",
       "      <td>PNL</td>\n",
       "      <td>VCBB</td>\n",
       "      <td>221.106857</td>\n",
       "    </tr>\n",
       "    <tr>\n",
       "      <th>3</th>\n",
       "      <td>3.300000</td>\n",
       "      <td>10.00</td>\n",
       "      <td>9.00</td>\n",
       "      <td>1.95</td>\n",
       "      <td>PNL</td>\n",
       "      <td>VCBB</td>\n",
       "      <td>96.867020</td>\n",
       "    </tr>\n",
       "    <tr>\n",
       "      <th>4</th>\n",
       "      <td>11.000001</td>\n",
       "      <td>47.51</td>\n",
       "      <td>43.62</td>\n",
       "      <td>0.20</td>\n",
       "      <td>PNL</td>\n",
       "      <td>VCBB</td>\n",
       "      <td>58.636951</td>\n",
       "    </tr>\n",
       "  </tbody>\n",
       "</table>\n",
       "</div>"
      ],
      "text/plain": [
       "      Bus kV  Bus Bolted Fault (kA)  Bus Arcing Fault (kA)  Trip Time (sec)  \\\n",
       "0   0.480000                  34.97                  24.87             1.55   \n",
       "1   0.415000                  37.29                  23.38             0.80   \n",
       "2   6.600000                  42.51                  37.81             0.90   \n",
       "3   3.300000                  10.00                   9.00             1.95   \n",
       "4  11.000001                  47.51                  43.62             0.20   \n",
       "\n",
       "  Equip Type Busbar Config  Incident Energy(cal/cm2)  \n",
       "0        PNL           VCB                 94.317383  \n",
       "1        SWG           VCB                 31.460188  \n",
       "2        PNL          VCBB                221.106857  \n",
       "3        PNL          VCBB                 96.867020  \n",
       "4        PNL          VCBB                 58.636951  "
      ]
     },
     "execution_count": 42,
     "metadata": {},
     "output_type": "execute_result"
    }
   ],
   "source": [
    "Df_Ecal = Df_Ecal.sample(frac=1).reset_index(drop=True)\n",
    "Df_Ecal.head()"
   ]
  },
  {
   "cell_type": "code",
   "execution_count": 43,
   "metadata": {},
   "outputs": [
    {
     "name": "stdout",
     "output_type": "stream",
     "text": [
      "(32000, 6)\n",
      "(32000,)\n"
     ]
    }
   ],
   "source": [
    "Y = Df_Ecal['Incident Energy(cal/cm2)']\n",
    "X = Df_Ecal.drop('Incident Energy(cal/cm2)', axis=1)\n",
    "\n",
    "print( X.shape)\n",
    "print( Y.shape)"
   ]
  },
  {
   "cell_type": "code",
   "execution_count": 44,
   "metadata": {},
   "outputs": [],
   "source": [
    "X_train, X_test, Y_train, Y_test = train_test_split(X, Y, test_size = 0.1,stratify=X[\"Bus kV\"])"
   ]
  },
  {
   "cell_type": "code",
   "execution_count": 45,
   "metadata": {},
   "outputs": [],
   "source": [
    "numeric_transformer = Pipeline(steps=[\n",
    "    ('imputer', SimpleImputer(strategy='median')),\n",
    "    ('scaler', StandardScaler())])\n",
    "\n",
    "categorical_transformer = Pipeline(steps=[\n",
    "    ('imputer', SimpleImputer(strategy='most_frequent')),\n",
    "    ('onehot', OneHotEncoder())])\n",
    "\n",
    "numeric_features = [\"Bus kV\", \"Bus Bolted Fault (kA)\",'Bus Arcing Fault (kA)','Trip Time (sec)']\n",
    "categorical_features = [\"Equip Type\", \"Busbar Config\"]\n",
    "\n",
    "\n",
    "preprocessor = ColumnTransformer(\n",
    "    transformers=[\n",
    "        ('num', numeric_transformer, numeric_features),\n",
    "        ('cat', categorical_transformer, categorical_features)])\n",
    "\n",
    "X_train_prep = preprocessor.fit_transform(X_train)\n",
    "X_test_prep = preprocessor.transform(X_test)"
   ]
  },
  {
   "cell_type": "code",
   "execution_count": 48,
   "metadata": {},
   "outputs": [
    {
     "name": "stdout",
     "output_type": "stream",
     "text": [
      "\n",
      "RandomForestRegressor results\n",
      "Max positive error: 30.831811953709188\n",
      "Max negative error: -22.98230580122642\n",
      "Counts more than 5% error\n",
      "268\n",
      "\n",
      "GradientBoostingRegressor results\n",
      "Max positive error: 16.228344237949056\n",
      "Max negative error: -17.608692956242354\n",
      "Counts more than 5% error\n",
      "62\n"
     ]
    },
    {
     "data": {
      "image/png": "[encoded data removed]",
      "text/plain": [
       "<Figure size 432x288 with 1 Axes>"
      ]
     },
     "metadata": {
      "needs_background": "light"
     },
     "output_type": "display_data"
    },
    {
     "data": {
      "image/png": "[encoded data removed]",
      "text/plain": [
       "<Figure size 432x288 with 1 Axes>"
      ]
     },
     "metadata": {
      "needs_background": "light"
     },
     "output_type": "display_data"
    }
   ],
   "source": [
    "def Run_models_ensemble(model_var,X_train,Y_train,X_test,Y_test,Error_to_Observe = 5):\n",
    "    \n",
    "    model_var.fit(X_train, Y_train)\n",
    "\n",
    "    Y_predict = model_var.predict(X_test)\n",
    "    \n",
    "    print(\"\\n{} results\".format(type(model_var).__name__))\n",
    "\n",
    "    Df_Ecal_result = pd.DataFrame({\"Prediction\": Y_predict, \"Test\":Y_test})\n",
    "    Df_Ecal_result[\"% error\"] = (Df_Ecal_result[\"Prediction\"]/Df_Ecal_result[\"Test\"]  - 1)*100\n",
    "    Df_Ecal_result.to_excel(\"result_Ecal_\"+str(type(model_var).__name__)+ \".xlsx\")\n",
    "    print('Max positive error:', Df_Ecal_result[\"% error\"].max())\n",
    "    print('Max negative error:',Df_Ecal_result[\"% error\"].min())\n",
    "    plt.figure()\n",
    "    plt.scatter(range(len(Y_test)),Y_test)\n",
    "    plt.scatter(range(len(Y_test)),Y_predict)\n",
    "    print('Counts more than {}% error'.format(Error_to_Observe))\n",
    "    print(Df_Ecal_result[(Df_Ecal_result[\"% error\"] > Error_to_Observe) | (Df_Ecal_result[\"% error\"] <= -Error_to_Observe)].count()[\"% error\"])\n",
    "    joblib.dump(model_var, str(type(model_var).__name__) + \".pkl\")\n",
    "    \n",
    "forest_reg1 = RandomForestRegressor(n_estimators= 200, bootstrap = True, max_depth= 30,max_features= 'auto', random_state=42)\n",
    "GBR_reg1 = GradientBoostingRegressor(n_estimators= 100,  max_depth= 10,max_features= None, random_state=42,warm_start=True, tol=0.0001,loss='huber')\n",
    "\n",
    "\n",
    "Run_models_ensemble(forest_reg1,X_train_prep,Y_train,X_test_prep,Y_test,5)\n",
    "Run_models_ensemble(GBR_reg1,X_train_prep,Y_train,X_test_prep,Y_test,5)"
   ]
  },
  {
   "cell_type": "code",
   "execution_count": null,
   "metadata": {},
   "outputs": [],
   "source": [
    "DF_Final_Test = pd.read_excel(\"ArcFlash_Final_test_data.xls\",skiprows=4,skipfooter=4,header= None)\n",
    "Columns_retained = ['Bus kV', 'Bus Bolted Fault (kA)', 'Bus Arcing Fault (kA)', 'Trip Time (sec)', 'Equip Type','Busbar Config','Incident Energy(cal/cm2)']\n",
    "DF_Final_Test = DF_Final_Test[[2,3,4,7,10,11,18]]\n",
    "DF_Final_Test.columns = Columns_retained\n",
    "DF_Final_Test.head()"
   ]
  },
  {
   "cell_type": "code",
   "execution_count": null,
   "metadata": {},
   "outputs": [],
   "source": [
    "Y_Final_To_Predict_DF = DF_Final_Test['Incident Energy(cal/cm2)']\n",
    "X_Final_Predict_DF = DF_Final_Test.drop('Incident Energy(cal/cm2)', axis=1)\n",
    "\n",
    "X_predict = preprocessor.transform(X_Final_Predict_DF)\n",
    "X_Final_Predict_DF"
   ]
  },
  {
   "cell_type": "code",
   "execution_count": null,
   "metadata": {},
   "outputs": [],
   "source": [
    "joblib_model = joblib.load('RandomForestRegressor.pkl')\n",
    "Ypredict_rf = joblib_model.predict(X_predict)\n",
    "Ypredict_rf"
   ]
  },
  {
   "cell_type": "code",
   "execution_count": null,
   "metadata": {},
   "outputs": [],
   "source": [
    "joblib_model = joblib.load('GradientBoostingRegressor.pkl')\n",
    "Ypredict_gbr = joblib_model.predict(X_predict)\n",
    "Ypredict_gbr"
   ]
  },
  {
   "cell_type": "code",
   "execution_count": null,
   "metadata": {},
   "outputs": [],
   "source": [
    "Y_Final_To_Predict_DF"
   ]
  },
  {
   "cell_type": "code",
   "execution_count": null,
   "metadata": {},
   "outputs": [],
   "source": [
    "(Ypredict_rf - Y_Final_To_Predict_DF)/Y_Final_To_Predict_DF*100"
   ]
  },
  {
   "cell_type": "code",
   "execution_count": null,
   "metadata": {},
   "outputs": [],
   "source": [
    "(Ypredict_gbr - Y_Final_To_Predict_DF)/Y_Final_To_Predict_DF*100"
   ]
  }
 ],
 "metadata": {
  "kernelspec": {
   "display_name": "Python 3",
   "language": "python",
   "name": "python3"
  },
  "language_info": {
   "codemirror_mode": {
    "name": "ipython",
    "version": 3
   },
   "file_extension": ".py",
   "mimetype": "text/x-python",
   "name": "python",
   "nbconvert_exporter": "python",
   "pygments_lexer": "ipython3",
   "version": "3.7.6"
  }
 },
 "nbformat": 4,
 "nbformat_minor": 4
}
